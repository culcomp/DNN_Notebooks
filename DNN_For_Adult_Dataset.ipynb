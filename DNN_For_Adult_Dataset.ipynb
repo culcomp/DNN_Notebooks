{
 "cells": [
  {
   "cell_type": "code",
   "execution_count": 1,
   "metadata": {
    "collapsed": false
   },
   "outputs": [],
   "source": [
    "# Import necessary packages and modules\n",
    "import csv\n",
    "import tensorflow as tf\n",
    "import random\n",
    "import pandas as pd\n",
    "import numpy as np\n",
    "import matplotlib.pyplot as plt"
   ]
  },
  {
   "cell_type": "code",
   "execution_count": 2,
   "metadata": {
    "collapsed": false
   },
   "outputs": [],
   "source": [
    "# Download adult.data and adult.test from https://archive.ics.uci.edu/ml/machine-learning-databases/adult/\n",
    "# Provide the path to these files in the lines below\n",
    "train_data = pd.read_csv('adult.data', header=None)\n",
    "test_data = pd.read_csv('adult.test', header=None, skiprows=[0])"
   ]
  },
  {
   "cell_type": "code",
   "execution_count": 3,
   "metadata": {
    "collapsed": false
   },
   "outputs": [],
   "source": [
    "# Add column names\n",
    "train_data.columns = ['age', 'workclass', 'observation-weight', 'education', 'education-num', 'marital-status', 'occupation', 'relationship', 'race', 'sex', 'capital-gain', 'capital-loss', 'hours-per-week', 'native-country', 'class']\n",
    "test_data.columns = ['age', 'workclass', 'observation-weight', 'education', 'education-num', 'marital-status', 'occupation', 'relationship', 'race', 'sex', 'capital-gain', 'capital-loss', 'hours-per-week', 'native-country', 'class']"
   ]
  },
  {
   "cell_type": "code",
   "execution_count": 4,
   "metadata": {
    "collapsed": false
   },
   "outputs": [
    {
     "data": {
      "text/html": [
       "<div>\n",
       "<table border=\"1\" class=\"dataframe\">\n",
       "  <thead>\n",
       "    <tr style=\"text-align: right;\">\n",
       "      <th></th>\n",
       "      <th>age</th>\n",
       "      <th>workclass</th>\n",
       "      <th>observation-weight</th>\n",
       "      <th>education</th>\n",
       "      <th>education-num</th>\n",
       "      <th>marital-status</th>\n",
       "      <th>occupation</th>\n",
       "      <th>relationship</th>\n",
       "      <th>race</th>\n",
       "      <th>sex</th>\n",
       "      <th>capital-gain</th>\n",
       "      <th>capital-loss</th>\n",
       "      <th>hours-per-week</th>\n",
       "      <th>native-country</th>\n",
       "      <th>class</th>\n",
       "    </tr>\n",
       "  </thead>\n",
       "  <tbody>\n",
       "    <tr>\n",
       "      <th>0</th>\n",
       "      <td>39</td>\n",
       "      <td>State-gov</td>\n",
       "      <td>77516</td>\n",
       "      <td>Bachelors</td>\n",
       "      <td>13</td>\n",
       "      <td>Never-married</td>\n",
       "      <td>Adm-clerical</td>\n",
       "      <td>Not-in-family</td>\n",
       "      <td>White</td>\n",
       "      <td>Male</td>\n",
       "      <td>2174</td>\n",
       "      <td>0</td>\n",
       "      <td>40</td>\n",
       "      <td>United-States</td>\n",
       "      <td>&lt;=50K</td>\n",
       "    </tr>\n",
       "    <tr>\n",
       "      <th>1</th>\n",
       "      <td>50</td>\n",
       "      <td>Self-emp-not-inc</td>\n",
       "      <td>83311</td>\n",
       "      <td>Bachelors</td>\n",
       "      <td>13</td>\n",
       "      <td>Married-civ-spouse</td>\n",
       "      <td>Exec-managerial</td>\n",
       "      <td>Husband</td>\n",
       "      <td>White</td>\n",
       "      <td>Male</td>\n",
       "      <td>0</td>\n",
       "      <td>0</td>\n",
       "      <td>13</td>\n",
       "      <td>United-States</td>\n",
       "      <td>&lt;=50K</td>\n",
       "    </tr>\n",
       "    <tr>\n",
       "      <th>2</th>\n",
       "      <td>38</td>\n",
       "      <td>Private</td>\n",
       "      <td>215646</td>\n",
       "      <td>HS-grad</td>\n",
       "      <td>9</td>\n",
       "      <td>Divorced</td>\n",
       "      <td>Handlers-cleaners</td>\n",
       "      <td>Not-in-family</td>\n",
       "      <td>White</td>\n",
       "      <td>Male</td>\n",
       "      <td>0</td>\n",
       "      <td>0</td>\n",
       "      <td>40</td>\n",
       "      <td>United-States</td>\n",
       "      <td>&lt;=50K</td>\n",
       "    </tr>\n",
       "    <tr>\n",
       "      <th>3</th>\n",
       "      <td>53</td>\n",
       "      <td>Private</td>\n",
       "      <td>234721</td>\n",
       "      <td>11th</td>\n",
       "      <td>7</td>\n",
       "      <td>Married-civ-spouse</td>\n",
       "      <td>Handlers-cleaners</td>\n",
       "      <td>Husband</td>\n",
       "      <td>Black</td>\n",
       "      <td>Male</td>\n",
       "      <td>0</td>\n",
       "      <td>0</td>\n",
       "      <td>40</td>\n",
       "      <td>United-States</td>\n",
       "      <td>&lt;=50K</td>\n",
       "    </tr>\n",
       "    <tr>\n",
       "      <th>4</th>\n",
       "      <td>28</td>\n",
       "      <td>Private</td>\n",
       "      <td>338409</td>\n",
       "      <td>Bachelors</td>\n",
       "      <td>13</td>\n",
       "      <td>Married-civ-spouse</td>\n",
       "      <td>Prof-specialty</td>\n",
       "      <td>Wife</td>\n",
       "      <td>Black</td>\n",
       "      <td>Female</td>\n",
       "      <td>0</td>\n",
       "      <td>0</td>\n",
       "      <td>40</td>\n",
       "      <td>Cuba</td>\n",
       "      <td>&lt;=50K</td>\n",
       "    </tr>\n",
       "  </tbody>\n",
       "</table>\n",
       "</div>"
      ],
      "text/plain": [
       "   age          workclass  observation-weight   education  education-num  \\\n",
       "0   39          State-gov               77516   Bachelors             13   \n",
       "1   50   Self-emp-not-inc               83311   Bachelors             13   \n",
       "2   38            Private              215646     HS-grad              9   \n",
       "3   53            Private              234721        11th              7   \n",
       "4   28            Private              338409   Bachelors             13   \n",
       "\n",
       "        marital-status          occupation    relationship    race      sex  \\\n",
       "0        Never-married        Adm-clerical   Not-in-family   White     Male   \n",
       "1   Married-civ-spouse     Exec-managerial         Husband   White     Male   \n",
       "2             Divorced   Handlers-cleaners   Not-in-family   White     Male   \n",
       "3   Married-civ-spouse   Handlers-cleaners         Husband   Black     Male   \n",
       "4   Married-civ-spouse      Prof-specialty            Wife   Black   Female   \n",
       "\n",
       "   capital-gain  capital-loss  hours-per-week  native-country   class  \n",
       "0          2174             0              40   United-States   <=50K  \n",
       "1             0             0              13   United-States   <=50K  \n",
       "2             0             0              40   United-States   <=50K  \n",
       "3             0             0              40   United-States   <=50K  \n",
       "4             0             0              40            Cuba   <=50K  "
      ]
     },
     "execution_count": 4,
     "metadata": {},
     "output_type": "execute_result"
    }
   ],
   "source": [
    "# View a sample of the data\n",
    "train_data.head(5)"
   ]
  },
  {
   "cell_type": "code",
   "execution_count": 5,
   "metadata": {
    "collapsed": false
   },
   "outputs": [],
   "source": [
    "# Drop the observation weight column\n",
    "train_data = train_data.drop('observation-weight', axis = 1)\n",
    "test_data = test_data.drop('observation-weight', axis = 1)"
   ]
  },
  {
   "cell_type": "code",
   "execution_count": 6,
   "metadata": {
    "collapsed": true
   },
   "outputs": [],
   "source": [
    "# Create the list of variables/column names of different datatypes \n",
    "# This is used to perform datatype specific processing\n",
    "binary_variables = ['class']\n",
    "categorical_variables = ['workclass', 'education', 'education-num', 'marital-status', 'occupation', 'relationship', 'race', 'sex', 'native-country']\n",
    "numeric_variables = ['hours-per-week','age','capital-gain','capital-loss']"
   ]
  },
  {
   "cell_type": "code",
   "execution_count": 7,
   "metadata": {
    "collapsed": false
   },
   "outputs": [],
   "source": [
    "# Convert the datatype of categorical and binary variables to string\n",
    "# Remove whitespaces from the beginning and the end\n",
    "for variable in categorical_variables + binary_variables:\n",
    "    train_data[variable] = train_data[variable].astype(np.str)\n",
    "    train_data[variable] = train_data[variable].map(lambda x : x.strip())\n",
    "    test_data[variable] = test_data[variable].astype(np.str)\n",
    "    test_data[variable] = test_data[variable].map(lambda x : x.strip())"
   ]
  },
  {
   "cell_type": "code",
   "execution_count": 8,
   "metadata": {
    "collapsed": true
   },
   "outputs": [],
   "source": [
    "# Replace unknown values indicated by ? with nans to be later imputed with appropriate value\n",
    "for variable in train_data.columns:\n",
    "    train_data[variable] = train_data[variable].replace('?', np.nan)\n",
    "for variable in test_data.columns:\n",
    "    test_data[variable] = test_data[variable].replace('?', np.nan)"
   ]
  },
  {
   "cell_type": "code",
   "execution_count": 9,
   "metadata": {
    "collapsed": false
   },
   "outputs": [
    {
     "data": {
      "text/plain": [
       "['workclass', 'occupation', 'native-country']"
      ]
     },
     "execution_count": 9,
     "metadata": {},
     "output_type": "execute_result"
    }
   ],
   "source": [
    "# Identify the columns with nans\n",
    "train_data.columns[pd.isnull(train_data).any()].tolist()"
   ]
  },
  {
   "cell_type": "code",
   "execution_count": 10,
   "metadata": {
    "collapsed": true
   },
   "outputs": [],
   "source": [
    "# Replace nans with mode of the values in the respective variables/columns\n",
    "imputed_variables = ['workclass','occupation','native-country']\n",
    "imputed_values = train_data[imputed_variables].mode()\n",
    "for variable in imputed_variables:\n",
    "    train_data[variable].fillna(value=imputed_values[variable][0], inplace=True)\n",
    "    test_data[variable].fillna(value=imputed_values[variable][0], inplace=True)"
   ]
  },
  {
   "cell_type": "code",
   "execution_count": 11,
   "metadata": {
    "collapsed": true
   },
   "outputs": [],
   "source": [
    "for variable in numeric_variables:\n",
    "    train_data[variable] = train_data[variable].astype(np.float)\n",
    "    test_data[variable] = test_data[variable].astype(np.float)"
   ]
  },
  {
   "cell_type": "code",
   "execution_count": 12,
   "metadata": {
    "collapsed": false
   },
   "outputs": [],
   "source": [
    "# Convert each of the categorical variables to a set of binary variables, one for each value \n",
    "# the categorical variable takes\n",
    "# Create and update keys to contain the final set of variables to be used to build the model\n",
    "keys = []\n",
    "for variable in categorical_variables:\n",
    "    vals_uniq = list(train_data[variable].unique())\n",
    "    temp = train_data[variable].map(lambda x: np.eye(len(vals_uniq))[vals_uniq.index(x)])\n",
    "    mat = [x for x in temp.as_matrix()]\n",
    "    df = pd.DataFrame(mat)\n",
    "    df.columns = vals_uniq\n",
    "    train_data = pd.concat([train_data,df],axis=1)\n",
    "    \n",
    "    temp = test_data[variable].map(lambda x: np.eye(len(vals_uniq))[vals_uniq.index(x)])\n",
    "    mat = [x for x in temp.as_matrix()]\n",
    "    df = pd.DataFrame(mat)\n",
    "    df.columns = vals_uniq\n",
    "    test_data = pd.concat([test_data,df],axis=1)\n",
    "    \n",
    "    keys+=vals_uniq"
   ]
  },
  {
   "cell_type": "code",
   "execution_count": 13,
   "metadata": {
    "collapsed": false
   },
   "outputs": [],
   "source": [
    "# Add numerical variables' names to the final set of variables to be used to build the model\n",
    "keys+=numeric_variables"
   ]
  },
  {
   "cell_type": "code",
   "execution_count": 14,
   "metadata": {
    "collapsed": false
   },
   "outputs": [
    {
     "name": "stdout",
     "output_type": "stream",
     "text": [
      "['State-gov', 'Self-emp-not-inc', 'Private', 'Federal-gov', 'Local-gov', 'Self-emp-inc', 'Without-pay', 'Never-worked', 'Bachelors', 'HS-grad', '11th', 'Masters', '9th', 'Some-college', 'Assoc-acdm', 'Assoc-voc', '7th-8th', 'Doctorate', 'Prof-school', '5th-6th', '10th', '1st-4th', 'Preschool', '12th', '13', '9', '7', '14', '5', '10', '12', '11', '4', '16', '15', '3', '6', '2', '1', '8', 'Never-married', 'Married-civ-spouse', 'Divorced', 'Married-spouse-absent', 'Separated', 'Married-AF-spouse', 'Widowed', 'Adm-clerical', 'Exec-managerial', 'Handlers-cleaners', 'Prof-specialty', 'Other-service', 'Sales', 'Craft-repair', 'Transport-moving', 'Farming-fishing', 'Machine-op-inspct', 'Tech-support', 'Protective-serv', 'Armed-Forces', 'Priv-house-serv', 'Not-in-family', 'Husband', 'Wife', 'Own-child', 'Unmarried', 'Other-relative', 'White', 'Black', 'Asian-Pac-Islander', 'Amer-Indian-Eskimo', 'Other', 'Male', 'Female', 'United-States', 'Cuba', 'Jamaica', 'India', 'Mexico', 'South', 'Puerto-Rico', 'Honduras', 'England', 'Canada', 'Germany', 'Iran', 'Philippines', 'Italy', 'Poland', 'Columbia', 'Cambodia', 'Thailand', 'Ecuador', 'Laos', 'Taiwan', 'Haiti', 'Portugal', 'Dominican-Republic', 'El-Salvador', 'France', 'Guatemala', 'China', 'Japan', 'Yugoslavia', 'Peru', 'Outlying-US(Guam-USVI-etc)', 'Scotland', 'Trinadad&Tobago', 'Greece', 'Nicaragua', 'Vietnam', 'Hong', 'Ireland', 'Hungary', 'Holand-Netherlands', 'hours-per-week', 'age', 'capital-gain', 'capital-loss']\n",
      "119\n"
     ]
    }
   ],
   "source": [
    "print keys\n",
    "print len(keys)"
   ]
  },
  {
   "cell_type": "code",
   "execution_count": 15,
   "metadata": {
    "collapsed": true
   },
   "outputs": [],
   "source": [
    "# Convert the values of the class variable to 0-1 format \n",
    "train_data['class'] = train_data['class'].map(lambda x : '0' if x == '<=50K' else '1')\n",
    "test_data['class'] = test_data['class'].map(lambda x : '0' if x == '<=50K.' else '1')"
   ]
  },
  {
   "cell_type": "code",
   "execution_count": 16,
   "metadata": {
    "collapsed": false
   },
   "outputs": [
    {
     "name": "stdout",
     "output_type": "stream",
     "text": [
      "(32561, 119)\n",
      "(16281, 119)\n"
     ]
    }
   ],
   "source": [
    "# Create training and test set with only the final set of variables\n",
    "tr=train_data.reindex(index=train_data.index,columns=keys)\n",
    "tt=test_data.reindex(index=test_data.index,columns=keys)\n",
    "print tr.shape\n",
    "print tt.shape"
   ]
  },
  {
   "cell_type": "code",
   "execution_count": 17,
   "metadata": {
    "collapsed": false
   },
   "outputs": [],
   "source": [
    "# Convert the class type from string to int\n",
    "tr['class'] = train_data['class'].astype(int)\n",
    "tt['class'] = test_data['class'].astype(int)"
   ]
  },
  {
   "cell_type": "code",
   "execution_count": 18,
   "metadata": {
    "collapsed": false
   },
   "outputs": [
    {
     "data": {
      "text/html": [
       "<div>\n",
       "<table border=\"1\" class=\"dataframe\">\n",
       "  <thead>\n",
       "    <tr style=\"text-align: right;\">\n",
       "      <th></th>\n",
       "      <th>State-gov</th>\n",
       "      <th>Self-emp-not-inc</th>\n",
       "      <th>Private</th>\n",
       "      <th>Federal-gov</th>\n",
       "      <th>Local-gov</th>\n",
       "      <th>Self-emp-inc</th>\n",
       "      <th>Without-pay</th>\n",
       "      <th>Never-worked</th>\n",
       "      <th>Bachelors</th>\n",
       "      <th>HS-grad</th>\n",
       "      <th>...</th>\n",
       "      <th>Vietnam</th>\n",
       "      <th>Hong</th>\n",
       "      <th>Ireland</th>\n",
       "      <th>Hungary</th>\n",
       "      <th>Holand-Netherlands</th>\n",
       "      <th>hours-per-week</th>\n",
       "      <th>age</th>\n",
       "      <th>capital-gain</th>\n",
       "      <th>capital-loss</th>\n",
       "      <th>class</th>\n",
       "    </tr>\n",
       "  </thead>\n",
       "  <tbody>\n",
       "    <tr>\n",
       "      <th>0</th>\n",
       "      <td>1.0</td>\n",
       "      <td>0.0</td>\n",
       "      <td>0.0</td>\n",
       "      <td>0.0</td>\n",
       "      <td>0.0</td>\n",
       "      <td>0.0</td>\n",
       "      <td>0.0</td>\n",
       "      <td>0.0</td>\n",
       "      <td>1.0</td>\n",
       "      <td>0.0</td>\n",
       "      <td>...</td>\n",
       "      <td>0.0</td>\n",
       "      <td>0.0</td>\n",
       "      <td>0.0</td>\n",
       "      <td>0.0</td>\n",
       "      <td>0.0</td>\n",
       "      <td>40.0</td>\n",
       "      <td>39.0</td>\n",
       "      <td>2174.0</td>\n",
       "      <td>0.0</td>\n",
       "      <td>0</td>\n",
       "    </tr>\n",
       "    <tr>\n",
       "      <th>1</th>\n",
       "      <td>0.0</td>\n",
       "      <td>1.0</td>\n",
       "      <td>0.0</td>\n",
       "      <td>0.0</td>\n",
       "      <td>0.0</td>\n",
       "      <td>0.0</td>\n",
       "      <td>0.0</td>\n",
       "      <td>0.0</td>\n",
       "      <td>1.0</td>\n",
       "      <td>0.0</td>\n",
       "      <td>...</td>\n",
       "      <td>0.0</td>\n",
       "      <td>0.0</td>\n",
       "      <td>0.0</td>\n",
       "      <td>0.0</td>\n",
       "      <td>0.0</td>\n",
       "      <td>13.0</td>\n",
       "      <td>50.0</td>\n",
       "      <td>0.0</td>\n",
       "      <td>0.0</td>\n",
       "      <td>0</td>\n",
       "    </tr>\n",
       "    <tr>\n",
       "      <th>2</th>\n",
       "      <td>0.0</td>\n",
       "      <td>0.0</td>\n",
       "      <td>1.0</td>\n",
       "      <td>0.0</td>\n",
       "      <td>0.0</td>\n",
       "      <td>0.0</td>\n",
       "      <td>0.0</td>\n",
       "      <td>0.0</td>\n",
       "      <td>0.0</td>\n",
       "      <td>1.0</td>\n",
       "      <td>...</td>\n",
       "      <td>0.0</td>\n",
       "      <td>0.0</td>\n",
       "      <td>0.0</td>\n",
       "      <td>0.0</td>\n",
       "      <td>0.0</td>\n",
       "      <td>40.0</td>\n",
       "      <td>38.0</td>\n",
       "      <td>0.0</td>\n",
       "      <td>0.0</td>\n",
       "      <td>0</td>\n",
       "    </tr>\n",
       "    <tr>\n",
       "      <th>3</th>\n",
       "      <td>0.0</td>\n",
       "      <td>0.0</td>\n",
       "      <td>1.0</td>\n",
       "      <td>0.0</td>\n",
       "      <td>0.0</td>\n",
       "      <td>0.0</td>\n",
       "      <td>0.0</td>\n",
       "      <td>0.0</td>\n",
       "      <td>0.0</td>\n",
       "      <td>0.0</td>\n",
       "      <td>...</td>\n",
       "      <td>0.0</td>\n",
       "      <td>0.0</td>\n",
       "      <td>0.0</td>\n",
       "      <td>0.0</td>\n",
       "      <td>0.0</td>\n",
       "      <td>40.0</td>\n",
       "      <td>53.0</td>\n",
       "      <td>0.0</td>\n",
       "      <td>0.0</td>\n",
       "      <td>0</td>\n",
       "    </tr>\n",
       "    <tr>\n",
       "      <th>4</th>\n",
       "      <td>0.0</td>\n",
       "      <td>0.0</td>\n",
       "      <td>1.0</td>\n",
       "      <td>0.0</td>\n",
       "      <td>0.0</td>\n",
       "      <td>0.0</td>\n",
       "      <td>0.0</td>\n",
       "      <td>0.0</td>\n",
       "      <td>1.0</td>\n",
       "      <td>0.0</td>\n",
       "      <td>...</td>\n",
       "      <td>0.0</td>\n",
       "      <td>0.0</td>\n",
       "      <td>0.0</td>\n",
       "      <td>0.0</td>\n",
       "      <td>0.0</td>\n",
       "      <td>40.0</td>\n",
       "      <td>28.0</td>\n",
       "      <td>0.0</td>\n",
       "      <td>0.0</td>\n",
       "      <td>0</td>\n",
       "    </tr>\n",
       "  </tbody>\n",
       "</table>\n",
       "<p>5 rows × 120 columns</p>\n",
       "</div>"
      ],
      "text/plain": [
       "   State-gov  Self-emp-not-inc  Private  Federal-gov  Local-gov  Self-emp-inc  \\\n",
       "0        1.0               0.0      0.0          0.0        0.0           0.0   \n",
       "1        0.0               1.0      0.0          0.0        0.0           0.0   \n",
       "2        0.0               0.0      1.0          0.0        0.0           0.0   \n",
       "3        0.0               0.0      1.0          0.0        0.0           0.0   \n",
       "4        0.0               0.0      1.0          0.0        0.0           0.0   \n",
       "\n",
       "   Without-pay  Never-worked  Bachelors  HS-grad  ...    Vietnam  Hong  \\\n",
       "0          0.0           0.0        1.0      0.0  ...        0.0   0.0   \n",
       "1          0.0           0.0        1.0      0.0  ...        0.0   0.0   \n",
       "2          0.0           0.0        0.0      1.0  ...        0.0   0.0   \n",
       "3          0.0           0.0        0.0      0.0  ...        0.0   0.0   \n",
       "4          0.0           0.0        1.0      0.0  ...        0.0   0.0   \n",
       "\n",
       "   Ireland  Hungary  Holand-Netherlands  hours-per-week   age  capital-gain  \\\n",
       "0      0.0      0.0                 0.0            40.0  39.0        2174.0   \n",
       "1      0.0      0.0                 0.0            13.0  50.0           0.0   \n",
       "2      0.0      0.0                 0.0            40.0  38.0           0.0   \n",
       "3      0.0      0.0                 0.0            40.0  53.0           0.0   \n",
       "4      0.0      0.0                 0.0            40.0  28.0           0.0   \n",
       "\n",
       "   capital-loss  class  \n",
       "0           0.0      0  \n",
       "1           0.0      0  \n",
       "2           0.0      0  \n",
       "3           0.0      0  \n",
       "4           0.0      0  \n",
       "\n",
       "[5 rows x 120 columns]"
      ]
     },
     "execution_count": 18,
     "metadata": {},
     "output_type": "execute_result"
    }
   ],
   "source": [
    "# View a sample of the data to be used to build the model\n",
    "tr.head(5)"
   ]
  },
  {
   "cell_type": "code",
   "execution_count": 19,
   "metadata": {
    "collapsed": false
   },
   "outputs": [],
   "source": [
    "# Set model parameters\n",
    "learning_rate = 0.1\n",
    "training_epochs = 10\n",
    "batch_size = 100\n",
    "display_step = 1"
   ]
  },
  {
   "cell_type": "code",
   "execution_count": 20,
   "metadata": {
    "collapsed": false
   },
   "outputs": [],
   "source": [
    "# Define tf Graph Input\n",
    "X = tf.placeholder(tf.float32, [None, 119]) # Each data point is of 119 dimension\n",
    "Y = tf.placeholder(tf.float32, [None]) # Each label is binary\n",
    " \n",
    "# Set model weights and bias\n",
    "W = tf.random_normal([119,1], mean=0.1,stddev=0.1)\n",
    "b = tf.Variable(tf.zeros([1]))\n",
    " \n",
    "# Construct model\n",
    "Y_pred = tf.nn.sigmoid(tf.matmul(X, W) + b)\n",
    " \n",
    "# Minimize error using cross entropy or L2_loss (Currently commented)\n",
    "# For cross entropy, note the addition of 1e-10 to avoid NaNs\n",
    "cost_function = tf.reduce_mean(-tf.reduce_sum(Y*tf.log(Y_pred + 1e-10)+(1-Y)*tf.log((1-Y_pred)+1e-10), reduction_indices=1))\n",
    "#cost_function = tf.nn.l2_loss(Y_pred-Y)\n",
    "\n",
    "# Set threshold to make prediction\n",
    "thres = 0.7*tf.ones([tf.shape(X)[0]])\n",
    "Y_pred_thres = tf.greater(Y_pred,thres)\n",
    "\n",
    "# Note accuracy\n",
    "correct_prediction = tf.equal(Y,tf.cast(Y_pred_thres,tf.float32))\n",
    "accuracy = tf.reduce_mean(tf.cast(correct_prediction, \"float\"))\n",
    "\n",
    "# Learn weights and bias using Gradient Descent\n",
    "optimizer = tf.train.AdamOptimizer(learning_rate).minimize(cost_function)\n",
    "#optimizer = tf.train.GradientDescentOptimizer(learning_rate).minimize(cost_function)\n",
    " \n",
    "# Initializing the variables\n",
    "init = tf.initialize_all_variables()"
   ]
  },
  {
   "cell_type": "code",
   "execution_count": 22,
   "metadata": {
    "collapsed": false
   },
   "outputs": [
    {
     "name": "stdout",
     "output_type": "stream",
     "text": [
      "Epoch: 0001 cost= 452.519021184 acc= 0.518870769\n",
      "Epoch: 0002 cost= 367.085918673 acc= 0.619656617\n",
      "Epoch: 0003 cost= 372.865044931 acc= 0.614692309\n",
      "Epoch: 0004 cost= 381.609871544 acc= 0.616646770\n",
      "Epoch: 0005 cost= 369.399025175 acc= 0.619521231\n",
      "Epoch: 0006 cost= 372.605332736 acc= 0.610646771\n",
      "Epoch: 0007 cost= 372.122348445 acc= 0.620913847\n",
      "Epoch: 0008 cost= 366.052592539 acc= 0.608152001\n",
      "Epoch: 0009 cost= 381.747739680 acc= 0.619923077\n",
      "Epoch: 0010 cost= 385.824755202 acc= 0.615708309\n",
      "Optimization Finished!\n",
      "acc= 0.687935531\n"
     ]
    }
   ],
   "source": [
    "# Inside a tensorflow session, learn the model and note the accuracy on test data\n",
    "with tf.Session() as sess:\n",
    "    sess.run(init)\n",
    " \n",
    "    # Training cycle\n",
    "    for epoch in range(training_epochs):\n",
    "        avg_cost = 0.\n",
    "        avg_acc = 0.\n",
    "        total_batch = int(tr.shape[0]/batch_size)\n",
    "        # Loop over all batches\n",
    "        for i in range(total_batch):\n",
    "            train_batch = tr.sample(batch_size)\n",
    "            # Fit training using batch data\n",
    "            _, c, a = sess.run([optimizer,cost_function,accuracy], feed_dict={X: [x for x in train_batch[keys].values],\n",
    "                                    Y: [x for x in train_batch['class'].values]})\n",
    "            # Compute average loss\n",
    "            avg_cost += c / total_batch\n",
    "            avg_acc += a / total_batch\n",
    "           \n",
    "        # Display logs per epoch step\n",
    "        if (epoch+1) % display_step == 0:\n",
    "            print \"Epoch:\", '%04d' % (epoch+1), \"cost=\", \"{:.9f}\".format(avg_cost) , \"acc=\", \"{:.9f}\".format(avg_acc) \n",
    " \n",
    "    print \"Optimization Finished!\"\n",
    "    \n",
    "    # Note the performance of the model on a sample of the test set\n",
    "    avg_acc = 0.\n",
    "    test_sample = tt.sample(5000)\n",
    "    c,a = sess.run([cost_function,accuracy], feed_dict={X: [x for x in test_sample[keys].values], \n",
    "                                    Y: [x for x in test_sample['class'].values]})\n",
    "    avg_acc = a\n",
    "    print \"acc=\", \"{:.9f}\".format(avg_acc)"
   ]
  },
  {
   "cell_type": "code",
   "execution_count": null,
   "metadata": {
    "collapsed": true
   },
   "outputs": [],
   "source": []
  }
 ],
 "metadata": {
  "anaconda-cloud": {},
  "kernelspec": {
   "display_name": "Python [default]",
   "language": "python",
   "name": "python2"
  },
  "language_info": {
   "codemirror_mode": {
    "name": "ipython",
    "version": 2
   },
   "file_extension": ".py",
   "mimetype": "text/x-python",
   "name": "python",
   "nbconvert_exporter": "python",
   "pygments_lexer": "ipython2",
   "version": "2.7.12"
  }
 },
 "nbformat": 4,
 "nbformat_minor": 0
}
